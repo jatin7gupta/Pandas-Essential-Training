{
 "cells": [
  {
   "cell_type": "markdown",
   "metadata": {},
   "source": [
    "# Using Pandas"
   ]
  },
  {
   "cell_type": "markdown",
   "metadata": {},
   "source": [
    "## Importing pandas"
   ]
  },
  {
   "cell_type": "code",
   "execution_count": 1,
   "metadata": {
    "collapsed": true,
    "jupyter": {
     "outputs_hidden": true
    }
   },
   "outputs": [],
   "source": [
    "import pandas"
   ]
  },
  {
   "cell_type": "code",
   "execution_count": 2,
   "metadata": {},
   "outputs": [
    {
     "data": {
      "text/plain": [
       "'0.23.4'"
      ]
     },
     "execution_count": 2,
     "metadata": {},
     "output_type": "execute_result"
    }
   ],
   "source": [
    "pandas.__version__"
   ]
  },
  {
   "cell_type": "code",
   "execution_count": 3,
   "metadata": {
    "collapsed": true,
    "jupyter": {
     "outputs_hidden": true
    }
   },
   "outputs": [],
   "source": [
    "import pandas as pd"
   ]
  },
  {
   "cell_type": "code",
   "execution_count": 4,
   "metadata": {},
   "outputs": [
    {
     "data": {
      "text/plain": [
       "'0.23.4'"
      ]
     },
     "execution_count": 4,
     "metadata": {},
     "output_type": "execute_result"
    }
   ],
   "source": [
    "pd.__version__"
   ]
  },
  {
   "cell_type": "markdown",
   "metadata": {},
   "source": [
    "## Pandas documentation"
   ]
  },
  {
   "cell_type": "code",
   "execution_count": 6,
   "metadata": {
    "collapsed": true,
    "jupyter": {
     "outputs_hidden": true
    }
   },
   "outputs": [
    {
     "name": "stdout",
     "output_type": "stream",
     "text": [
      "\n",
      "INSTALLED VERSIONS\n",
      "------------------\n",
      "commit: None\n",
      "python: 3.7.1.final.0\n",
      "python-bits: 64\n",
      "OS: Windows\n",
      "OS-release: 10\n",
      "machine: AMD64\n",
      "processor: Intel64 Family 6 Model 158 Stepping 10, GenuineIntel\n",
      "byteorder: little\n",
      "LC_ALL: None\n",
      "LANG: None\n",
      "LOCALE: None.None\n",
      "\n",
      "pandas: 0.23.4\n",
      "pytest: 4.0.2\n",
      "pip: 18.1\n",
      "setuptools: 40.6.3\n",
      "Cython: 0.29.2\n",
      "numpy: 1.15.4\n",
      "scipy: 1.1.0\n",
      "pyarrow: None\n",
      "xarray: None\n",
      "IPython: 7.2.0\n",
      "sphinx: 1.8.2\n",
      "patsy: 0.5.1\n",
      "dateutil: 2.7.5\n",
      "pytz: 2018.7\n",
      "blosc: None\n",
      "bottleneck: 1.2.1\n",
      "tables: 3.4.4\n",
      "numexpr: 2.6.8\n",
      "feather: None\n",
      "matplotlib: 3.0.2\n",
      "openpyxl: 2.5.12\n",
      "xlrd: 1.2.0\n",
      "xlwt: 1.3.0\n",
      "xlsxwriter: 1.1.2\n",
      "lxml: 4.2.5\n",
      "bs4: 4.6.3\n",
      "html5lib: 1.0.1\n",
      "sqlalchemy: 1.2.15\n",
      "pymysql: None\n",
      "psycopg2: None\n",
      "jinja2: 2.10\n",
      "s3fs: None\n",
      "fastparquet: None\n",
      "pandas_gbq: None\n",
      "pandas_datareader: None\n"
     ]
    }
   ],
   "source": [
    "pd.show_versions()"
   ]
  },
  {
   "cell_type": "code",
   "execution_count": 8,
   "metadata": {
    "collapsed": true,
    "jupyter": {
     "outputs_hidden": true
    }
   },
   "outputs": [
    {
     "name": "stdout",
     "output_type": "stream",
     "text": [
      "\n",
      "INSTALLED VERSIONS\n",
      "------------------\n",
      "commit: None\n",
      "python: 3.7.1.final.0\n",
      "python-bits: 64\n",
      "OS: Windows\n",
      "OS-release: 10\n",
      "machine: AMD64\n",
      "processor: Intel64 Family 6 Model 158 Stepping 10, GenuineIntel\n",
      "byteorder: little\n",
      "LC_ALL: None\n",
      "LANG: None\n",
      "LOCALE: None.None\n",
      "\n",
      "pandas: 0.23.4\n",
      "pytest: 4.0.2\n",
      "pip: 18.1\n",
      "setuptools: 40.6.3\n",
      "Cython: 0.29.2\n",
      "numpy: 1.15.4\n",
      "scipy: 1.1.0\n",
      "pyarrow: None\n",
      "xarray: None\n",
      "IPython: 7.2.0\n",
      "sphinx: 1.8.2\n",
      "patsy: 0.5.1\n",
      "dateutil: 2.7.5\n",
      "pytz: 2018.7\n",
      "blosc: None\n",
      "bottleneck: 1.2.1\n",
      "tables: 3.4.4\n",
      "numexpr: 2.6.8\n",
      "feather: None\n",
      "matplotlib: 3.0.2\n",
      "openpyxl: 2.5.12\n",
      "xlrd: 1.2.0\n",
      "xlwt: 1.3.0\n",
      "xlsxwriter: 1.1.2\n",
      "lxml: 4.2.5\n",
      "bs4: 4.6.3\n",
      "html5lib: 1.0.1\n",
      "sqlalchemy: 1.2.15\n",
      "pymysql: None\n",
      "psycopg2: None\n",
      "jinja2: 2.10\n",
      "s3fs: None\n",
      "fastparquet: None\n",
      "pandas_gbq: None\n",
      "pandas_datareader: None\n"
     ]
    }
   ],
   "source": [
    "pd.show_versions()\n"
   ]
  },
  {
   "cell_type": "code",
   "execution_count": 9,
   "metadata": {
    "collapsed": true,
    "jupyter": {
     "outputs_hidden": true
    }
   },
   "outputs": [
    {
     "data": {
      "text/plain": [
       "\u001b[1;31mSignature:\u001b[0m\n",
       "\u001b[0mpd\u001b[0m\u001b[1;33m.\u001b[0m\u001b[0mread_csv\u001b[0m\u001b[1;33m(\u001b[0m\u001b[1;33m\n",
       "\u001b[0m    \u001b[1;33m[\u001b[0m\u001b[1;34m'filepath_or_buffer'\u001b[0m\u001b[1;33m,\u001b[0m \u001b[1;34m\"sep=','\"\u001b[0m\u001b[1;33m,\u001b[0m \u001b[1;34m'delimiter=None'\u001b[0m\u001b[1;33m,\u001b[0m \u001b[1;34m\"header='infer'\"\u001b[0m\u001b[1;33m,\u001b[0m \u001b[1;34m'names=None'\u001b[0m\u001b[1;33m,\u001b[0m \u001b[1;34m'index_col=None'\u001b[0m\u001b[1;33m,\u001b[0m \u001b[1;34m'usecols=None'\u001b[0m\u001b[1;33m,\u001b[0m \u001b[1;34m'squeeze=False'\u001b[0m\u001b[1;33m,\u001b[0m \u001b[1;34m'prefix=None'\u001b[0m\u001b[1;33m,\u001b[0m \u001b[1;34m'mangle_dupe_cols=True'\u001b[0m\u001b[1;33m,\u001b[0m \u001b[1;34m'dtype=None'\u001b[0m\u001b[1;33m,\u001b[0m \u001b[1;34m'engine=None'\u001b[0m\u001b[1;33m,\u001b[0m \u001b[1;34m'converters=None'\u001b[0m\u001b[1;33m,\u001b[0m \u001b[1;34m'true_values=None'\u001b[0m\u001b[1;33m,\u001b[0m \u001b[1;34m'false_values=None'\u001b[0m\u001b[1;33m,\u001b[0m \u001b[1;34m'skipinitialspace=False'\u001b[0m\u001b[1;33m,\u001b[0m \u001b[1;34m'skiprows=None'\u001b[0m\u001b[1;33m,\u001b[0m \u001b[1;34m'nrows=None'\u001b[0m\u001b[1;33m,\u001b[0m \u001b[1;34m'na_values=None'\u001b[0m\u001b[1;33m,\u001b[0m \u001b[1;34m'keep_default_na=True'\u001b[0m\u001b[1;33m,\u001b[0m \u001b[1;34m'na_filter=True'\u001b[0m\u001b[1;33m,\u001b[0m \u001b[1;34m'verbose=False'\u001b[0m\u001b[1;33m,\u001b[0m \u001b[1;34m'skip_blank_lines=True'\u001b[0m\u001b[1;33m,\u001b[0m \u001b[1;34m'parse_dates=False'\u001b[0m\u001b[1;33m,\u001b[0m \u001b[1;34m'infer_datetime_format=False'\u001b[0m\u001b[1;33m,\u001b[0m \u001b[1;34m'keep_date_col=False'\u001b[0m\u001b[1;33m,\u001b[0m \u001b[1;34m'date_parser=None'\u001b[0m\u001b[1;33m,\u001b[0m \u001b[1;34m'dayfirst=False'\u001b[0m\u001b[1;33m,\u001b[0m \u001b[1;34m'iterator=False'\u001b[0m\u001b[1;33m,\u001b[0m \u001b[1;34m'chunksize=None'\u001b[0m\u001b[1;33m,\u001b[0m \u001b[1;34m\"compression='infer'\"\u001b[0m\u001b[1;33m,\u001b[0m \u001b[1;34m'thousands=None'\u001b[0m\u001b[1;33m,\u001b[0m \u001b[1;34m\"decimal=b'.'\"\u001b[0m\u001b[1;33m,\u001b[0m \u001b[1;34m'lineterminator=None'\u001b[0m\u001b[1;33m,\u001b[0m \u001b[1;34m'quotechar=\\'\"\\''\u001b[0m\u001b[1;33m,\u001b[0m \u001b[1;34m'quoting=0'\u001b[0m\u001b[1;33m,\u001b[0m \u001b[1;34m'escapechar=None'\u001b[0m\u001b[1;33m,\u001b[0m \u001b[1;34m'comment=None'\u001b[0m\u001b[1;33m,\u001b[0m \u001b[1;34m'encoding=None'\u001b[0m\u001b[1;33m,\u001b[0m \u001b[1;34m'dialect=None'\u001b[0m\u001b[1;33m,\u001b[0m \u001b[1;34m'tupleize_cols=None'\u001b[0m\u001b[1;33m,\u001b[0m \u001b[1;34m'error_bad_lines=True'\u001b[0m\u001b[1;33m,\u001b[0m \u001b[1;34m'warn_bad_lines=True'\u001b[0m\u001b[1;33m,\u001b[0m \u001b[1;34m'skipfooter=0'\u001b[0m\u001b[1;33m,\u001b[0m \u001b[1;34m'doublequote=True'\u001b[0m\u001b[1;33m,\u001b[0m \u001b[1;34m'delim_whitespace=False'\u001b[0m\u001b[1;33m,\u001b[0m \u001b[1;34m'low_memory=True'\u001b[0m\u001b[1;33m,\u001b[0m \u001b[1;34m'memory_map=False'\u001b[0m\u001b[1;33m,\u001b[0m \u001b[1;34m'float_precision=None'\u001b[0m\u001b[1;33m]\u001b[0m\u001b[1;33m,\u001b[0m\u001b[1;33m\n",
       "\u001b[0m\u001b[1;33m)\u001b[0m\u001b[1;33m\u001b[0m\u001b[1;33m\u001b[0m\u001b[0m\n",
       "\u001b[1;31mDocstring:\u001b[0m\n",
       "Read CSV (comma-separated) file into DataFrame\n",
       "\n",
       "Also supports optionally iterating or breaking of the file\n",
       "into chunks.\n",
       "\n",
       "Additional help can be found in the `online docs for IO Tools\n",
       "<http://pandas.pydata.org/pandas-docs/stable/io.html>`_.\n",
       "\n",
       "Parameters\n",
       "----------\n",
       "filepath_or_buffer : str, pathlib.Path, py._path.local.LocalPath or any \\\n",
       "object with a read() method (such as a file handle or StringIO)\n",
       "    The string could be a URL. Valid URL schemes include http, ftp, s3, and\n",
       "    file. For file URLs, a host is expected. For instance, a local file could\n",
       "    be file://localhost/path/to/table.csv\n",
       "sep : str, default ','\n",
       "    Delimiter to use. If sep is None, the C engine cannot automatically detect\n",
       "    the separator, but the Python parsing engine can, meaning the latter will\n",
       "    be used and automatically detect the separator by Python's builtin sniffer\n",
       "    tool, ``csv.Sniffer``. In addition, separators longer than 1 character and\n",
       "    different from ``'\\s+'`` will be interpreted as regular expressions and\n",
       "    will also force the use of the Python parsing engine. Note that regex\n",
       "    delimiters are prone to ignoring quoted data. Regex example: ``'\\r\\t'``\n",
       "delimiter : str, default ``None``\n",
       "    Alternative argument name for sep.\n",
       "delim_whitespace : boolean, default False\n",
       "    Specifies whether or not whitespace (e.g. ``' '`` or ``'\\t'``) will be\n",
       "    used as the sep. Equivalent to setting ``sep='\\s+'``. If this option\n",
       "    is set to True, nothing should be passed in for the ``delimiter``\n",
       "    parameter.\n",
       "\n",
       "    .. versionadded:: 0.18.1 support for the Python parser.\n",
       "\n",
       "header : int or list of ints, default 'infer'\n",
       "    Row number(s) to use as the column names, and the start of the\n",
       "    data.  Default behavior is to infer the column names: if no names\n",
       "    are passed the behavior is identical to ``header=0`` and column\n",
       "    names are inferred from the first line of the file, if column\n",
       "    names are passed explicitly then the behavior is identical to\n",
       "    ``header=None``. Explicitly pass ``header=0`` to be able to\n",
       "    replace existing names. The header can be a list of integers that\n",
       "    specify row locations for a multi-index on the columns\n",
       "    e.g. [0,1,3]. Intervening rows that are not specified will be\n",
       "    skipped (e.g. 2 in this example is skipped). Note that this\n",
       "    parameter ignores commented lines and empty lines if\n",
       "    ``skip_blank_lines=True``, so header=0 denotes the first line of\n",
       "    data rather than the first line of the file.\n",
       "names : array-like, default None\n",
       "    List of column names to use. If file contains no header row, then you\n",
       "    should explicitly pass header=None. Duplicates in this list will cause\n",
       "    a ``UserWarning`` to be issued.\n",
       "index_col : int or sequence or False, default None\n",
       "    Column to use as the row labels of the DataFrame. If a sequence is given, a\n",
       "    MultiIndex is used. If you have a malformed file with delimiters at the end\n",
       "    of each line, you might consider index_col=False to force pandas to _not_\n",
       "    use the first column as the index (row names)\n",
       "usecols : list-like or callable, default None\n",
       "    Return a subset of the columns. If list-like, all elements must either\n",
       "    be positional (i.e. integer indices into the document columns) or strings\n",
       "    that correspond to column names provided either by the user in `names` or\n",
       "    inferred from the document header row(s). For example, a valid list-like\n",
       "    `usecols` parameter would be [0, 1, 2] or ['foo', 'bar', 'baz']. Element\n",
       "    order is ignored, so ``usecols=[0, 1]`` is the same as ``[1, 0]``.\n",
       "    To instantiate a DataFrame from ``data`` with element order preserved use\n",
       "    ``pd.read_csv(data, usecols=['foo', 'bar'])[['foo', 'bar']]`` for columns\n",
       "    in ``['foo', 'bar']`` order or\n",
       "    ``pd.read_csv(data, usecols=['foo', 'bar'])[['bar', 'foo']]``\n",
       "    for ``['bar', 'foo']`` order.\n",
       "\n",
       "    If callable, the callable function will be evaluated against the column\n",
       "    names, returning names where the callable function evaluates to True. An\n",
       "    example of a valid callable argument would be ``lambda x: x.upper() in\n",
       "    ['AAA', 'BBB', 'DDD']``. Using this parameter results in much faster\n",
       "    parsing time and lower memory usage.\n",
       "squeeze : boolean, default False\n",
       "    If the parsed data only contains one column then return a Series\n",
       "prefix : str, default None\n",
       "    Prefix to add to column numbers when no header, e.g. 'X' for X0, X1, ...\n",
       "mangle_dupe_cols : boolean, default True\n",
       "    Duplicate columns will be specified as 'X', 'X.1', ...'X.N', rather than\n",
       "    'X'...'X'. Passing in False will cause data to be overwritten if there\n",
       "    are duplicate names in the columns.\n",
       "dtype : Type name or dict of column -> type, default None\n",
       "    Data type for data or columns. E.g. {'a': np.float64, 'b': np.int32}\n",
       "    Use `str` or `object` together with suitable `na_values` settings\n",
       "    to preserve and not interpret dtype.\n",
       "    If converters are specified, they will be applied INSTEAD\n",
       "    of dtype conversion.\n",
       "engine : {'c', 'python'}, optional\n",
       "    Parser engine to use. The C engine is faster while the python engine is\n",
       "    currently more feature-complete.\n",
       "converters : dict, default None\n",
       "    Dict of functions for converting values in certain columns. Keys can either\n",
       "    be integers or column labels\n",
       "true_values : list, default None\n",
       "    Values to consider as True\n",
       "false_values : list, default None\n",
       "    Values to consider as False\n",
       "skipinitialspace : boolean, default False\n",
       "    Skip spaces after delimiter.\n",
       "skiprows : list-like or integer or callable, default None\n",
       "    Line numbers to skip (0-indexed) or number of lines to skip (int)\n",
       "    at the start of the file.\n",
       "\n",
       "    If callable, the callable function will be evaluated against the row\n",
       "    indices, returning True if the row should be skipped and False otherwise.\n",
       "    An example of a valid callable argument would be ``lambda x: x in [0, 2]``.\n",
       "skipfooter : int, default 0\n",
       "    Number of lines at bottom of file to skip (Unsupported with engine='c')\n",
       "nrows : int, default None\n",
       "    Number of rows of file to read. Useful for reading pieces of large files\n",
       "na_values : scalar, str, list-like, or dict, default None\n",
       "    Additional strings to recognize as NA/NaN. If dict passed, specific\n",
       "    per-column NA values.  By default the following values are interpreted as\n",
       "    NaN: '', '#N/A', '#N/A N/A', '#NA', '-1.#IND', '-1.#QNAN', '-NaN', '-nan',\n",
       "    '1.#IND', '1.#QNAN', 'N/A', 'NA', 'NULL', 'NaN', 'n/a', 'nan',\n",
       "    'null'.\n",
       "keep_default_na : bool, default True\n",
       "    Whether or not to include the default NaN values when parsing the data.\n",
       "    Depending on whether `na_values` is passed in, the behavior is as follows:\n",
       "\n",
       "    * If `keep_default_na` is True, and `na_values` are specified, `na_values`\n",
       "      is appended to the default NaN values used for parsing.\n",
       "    * If `keep_default_na` is True, and `na_values` are not specified, only\n",
       "      the default NaN values are used for parsing.\n",
       "    * If `keep_default_na` is False, and `na_values` are specified, only\n",
       "      the NaN values specified `na_values` are used for parsing.\n",
       "    * If `keep_default_na` is False, and `na_values` are not specified, no\n",
       "      strings will be parsed as NaN.\n",
       "\n",
       "    Note that if `na_filter` is passed in as False, the `keep_default_na` and\n",
       "    `na_values` parameters will be ignored.\n",
       "na_filter : boolean, default True\n",
       "    Detect missing value markers (empty strings and the value of na_values). In\n",
       "    data without any NAs, passing na_filter=False can improve the performance\n",
       "    of reading a large file\n",
       "verbose : boolean, default False\n",
       "    Indicate number of NA values placed in non-numeric columns\n",
       "skip_blank_lines : boolean, default True\n",
       "    If True, skip over blank lines rather than interpreting as NaN values\n",
       "parse_dates : boolean or list of ints or names or list of lists or dict, default False\n",
       "\n",
       "    * boolean. If True -> try parsing the index.\n",
       "    * list of ints or names. e.g. If [1, 2, 3] -> try parsing columns 1, 2, 3\n",
       "      each as a separate date column.\n",
       "    * list of lists. e.g.  If [[1, 3]] -> combine columns 1 and 3 and parse as\n",
       "      a single date column.\n",
       "    * dict, e.g. {'foo' : [1, 3]} -> parse columns 1, 3 as date and call result\n",
       "      'foo'\n",
       "\n",
       "    If a column or index contains an unparseable date, the entire column or\n",
       "    index will be returned unaltered as an object data type. For non-standard\n",
       "    datetime parsing, use ``pd.to_datetime`` after ``pd.read_csv``\n",
       "\n",
       "    Note: A fast-path exists for iso8601-formatted dates.\n",
       "infer_datetime_format : boolean, default False\n",
       "    If True and `parse_dates` is enabled, pandas will attempt to infer the\n",
       "    format of the datetime strings in the columns, and if it can be inferred,\n",
       "    switch to a faster method of parsing them. In some cases this can increase\n",
       "    the parsing speed by 5-10x.\n",
       "keep_date_col : boolean, default False\n",
       "    If True and `parse_dates` specifies combining multiple columns then\n",
       "    keep the original columns.\n",
       "date_parser : function, default None\n",
       "    Function to use for converting a sequence of string columns to an array of\n",
       "    datetime instances. The default uses ``dateutil.parser.parser`` to do the\n",
       "    conversion. Pandas will try to call `date_parser` in three different ways,\n",
       "    advancing to the next if an exception occurs: 1) Pass one or more arrays\n",
       "    (as defined by `parse_dates`) as arguments; 2) concatenate (row-wise) the\n",
       "    string values from the columns defined by `parse_dates` into a single array\n",
       "    and pass that; and 3) call `date_parser` once for each row using one or\n",
       "    more strings (corresponding to the columns defined by `parse_dates`) as\n",
       "    arguments.\n",
       "dayfirst : boolean, default False\n",
       "    DD/MM format dates, international and European format\n",
       "iterator : boolean, default False\n",
       "    Return TextFileReader object for iteration or getting chunks with\n",
       "    ``get_chunk()``.\n",
       "chunksize : int, default None\n",
       "    Return TextFileReader object for iteration.\n",
       "    See the `IO Tools docs\n",
       "    <http://pandas.pydata.org/pandas-docs/stable/io.html#io-chunking>`_\n",
       "    for more information on ``iterator`` and ``chunksize``.\n",
       "compression : {'infer', 'gzip', 'bz2', 'zip', 'xz', None}, default 'infer'\n",
       "    For on-the-fly decompression of on-disk data. If 'infer' and\n",
       "    `filepath_or_buffer` is path-like, then detect compression from the\n",
       "    following extensions: '.gz', '.bz2', '.zip', or '.xz' (otherwise no\n",
       "    decompression). If using 'zip', the ZIP file must contain only one data\n",
       "    file to be read in. Set to None for no decompression.\n",
       "\n",
       "    .. versionadded:: 0.18.1 support for 'zip' and 'xz' compression.\n",
       "\n",
       "thousands : str, default None\n",
       "    Thousands separator\n",
       "decimal : str, default '.'\n",
       "    Character to recognize as decimal point (e.g. use ',' for European data).\n",
       "float_precision : string, default None\n",
       "    Specifies which converter the C engine should use for floating-point\n",
       "    values. The options are `None` for the ordinary converter,\n",
       "    `high` for the high-precision converter, and `round_trip` for the\n",
       "    round-trip converter.\n",
       "lineterminator : str (length 1), default None\n",
       "    Character to break file into lines. Only valid with C parser.\n",
       "quotechar : str (length 1), optional\n",
       "    The character used to denote the start and end of a quoted item. Quoted\n",
       "    items can include the delimiter and it will be ignored.\n",
       "quoting : int or csv.QUOTE_* instance, default 0\n",
       "    Control field quoting behavior per ``csv.QUOTE_*`` constants. Use one of\n",
       "    QUOTE_MINIMAL (0), QUOTE_ALL (1), QUOTE_NONNUMERIC (2) or QUOTE_NONE (3).\n",
       "doublequote : boolean, default ``True``\n",
       "   When quotechar is specified and quoting is not ``QUOTE_NONE``, indicate\n",
       "   whether or not to interpret two consecutive quotechar elements INSIDE a\n",
       "   field as a single ``quotechar`` element.\n",
       "escapechar : str (length 1), default None\n",
       "    One-character string used to escape delimiter when quoting is QUOTE_NONE.\n",
       "comment : str, default None\n",
       "    Indicates remainder of line should not be parsed. If found at the beginning\n",
       "    of a line, the line will be ignored altogether. This parameter must be a\n",
       "    single character. Like empty lines (as long as ``skip_blank_lines=True``),\n",
       "    fully commented lines are ignored by the parameter `header` but not by\n",
       "    `skiprows`. For example, if ``comment='#'``, parsing\n",
       "    ``#empty\\na,b,c\\n1,2,3`` with ``header=0`` will result in 'a,b,c' being\n",
       "    treated as the header.\n",
       "encoding : str, default None\n",
       "    Encoding to use for UTF when reading/writing (ex. 'utf-8'). `List of Python\n",
       "    standard encodings\n",
       "    <https://docs.python.org/3/library/codecs.html#standard-encodings>`_\n",
       "dialect : str or csv.Dialect instance, default None\n",
       "    If provided, this parameter will override values (default or not) for the\n",
       "    following parameters: `delimiter`, `doublequote`, `escapechar`,\n",
       "    `skipinitialspace`, `quotechar`, and `quoting`. If it is necessary to\n",
       "    override values, a ParserWarning will be issued. See csv.Dialect\n",
       "    documentation for more details.\n",
       "tupleize_cols : boolean, default False\n",
       "    .. deprecated:: 0.21.0\n",
       "       This argument will be removed and will always convert to MultiIndex\n",
       "\n",
       "    Leave a list of tuples on columns as is (default is to convert to\n",
       "    a MultiIndex on the columns)\n",
       "error_bad_lines : boolean, default True\n",
       "    Lines with too many fields (e.g. a csv line with too many commas) will by\n",
       "    default cause an exception to be raised, and no DataFrame will be returned.\n",
       "    If False, then these \"bad lines\" will dropped from the DataFrame that is\n",
       "    returned.\n",
       "warn_bad_lines : boolean, default True\n",
       "    If error_bad_lines is False, and warn_bad_lines is True, a warning for each\n",
       "    \"bad line\" will be output.\n",
       "low_memory : boolean, default True\n",
       "    Internally process the file in chunks, resulting in lower memory use\n",
       "    while parsing, but possibly mixed type inference.  To ensure no mixed\n",
       "    types either set False, or specify the type with the `dtype` parameter.\n",
       "    Note that the entire file is read into a single DataFrame regardless,\n",
       "    use the `chunksize` or `iterator` parameter to return the data in chunks.\n",
       "    (Only valid with C parser)\n",
       "memory_map : boolean, default False\n",
       "    If a filepath is provided for `filepath_or_buffer`, map the file object\n",
       "    directly onto memory and access the data directly from there. Using this\n",
       "    option can improve performance because there is no longer any I/O overhead.\n",
       "\n",
       "Returns\n",
       "-------\n",
       "result : DataFrame or TextParser\n",
       "\u001b[1;31mFile:\u001b[0m      c:\\programdata\\anaconda3\\lib\\site-packages\\pandas\\io\\parsers.py\n",
       "\u001b[1;31mType:\u001b[0m      function\n"
      ]
     },
     "metadata": {},
     "output_type": "display_data"
    }
   ],
   "source": [
    "pd.read_csv?"
   ]
  },
  {
   "cell_type": "code",
   "execution_count": null,
   "metadata": {
    "collapsed": true,
    "jupyter": {
     "outputs_hidden": true
    }
   },
   "outputs": [],
   "source": []
  }
 ],
 "metadata": {
  "kernelspec": {
   "display_name": "Python 3",
   "language": "python",
   "name": "python3"
  },
  "language_info": {
   "codemirror_mode": {
    "name": "ipython",
    "version": 3
   },
   "file_extension": ".py",
   "mimetype": "text/x-python",
   "name": "python",
   "nbconvert_exporter": "python",
   "pygments_lexer": "ipython3",
   "version": "3.7.4"
  }
 },
 "nbformat": 4,
 "nbformat_minor": 4
}
